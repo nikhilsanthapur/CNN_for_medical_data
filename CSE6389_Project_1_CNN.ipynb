{
  "cells": [
    {
      "cell_type": "markdown",
      "metadata": {
        "id": "h8ike3JKCiwx"
      },
      "source": [
        "# 3D Subject-level CNN on MRI Images\n",
        "\n",
        "2 variations implemented:\n",
        "1. Using Image resizing\n",
        "2. Using Data Augmentation & Resizing"
      ]
    },
    {
      "cell_type": "code",
      "execution_count": 2,
      "metadata": {
        "colab": {
          "base_uri": "https://localhost:8080/"
        },
        "id": "BnMycL6FEJsU",
        "outputId": "9368be2d-a15e-440d-b646-def33db5f2f1"
      },
      "outputs": [
        {
          "output_type": "stream",
          "name": "stdout",
          "text": [
            "Mounted at /content/drive\n"
          ]
        }
      ],
      "source": [
        "from google.colab import drive\n",
        "drive.mount('/content/drive')"
      ]
    },
    {
      "cell_type": "code",
      "execution_count": 3,
      "metadata": {
        "colab": {
          "base_uri": "https://localhost:8080/"
        },
        "id": "mut6mngPEf9r",
        "outputId": "1f0ee36d-3a00-4668-f366-78ad0b3cec57"
      },
      "outputs": [
        {
          "output_type": "stream",
          "name": "stdout",
          "text": [
            "Collecting nilearn\n",
            "  Downloading nilearn-0.10.2-py3-none-any.whl (10.4 MB)\n",
            "\u001b[2K     \u001b[90m━━━━━━━━━━━━━━━━━━━━━━━━━━━━━━━━━━━━━━━━\u001b[0m \u001b[32m10.4/10.4 MB\u001b[0m \u001b[31m19.6 MB/s\u001b[0m eta \u001b[36m0:00:00\u001b[0m\n",
            "\u001b[?25hRequirement already satisfied: joblib>=1.0.0 in /usr/local/lib/python3.10/dist-packages (from nilearn) (1.3.2)\n",
            "Requirement already satisfied: lxml in /usr/local/lib/python3.10/dist-packages (from nilearn) (4.9.3)\n",
            "Requirement already satisfied: nibabel>=3.2.0 in /usr/local/lib/python3.10/dist-packages (from nilearn) (4.0.2)\n",
            "Requirement already satisfied: numpy>=1.19.0 in /usr/local/lib/python3.10/dist-packages (from nilearn) (1.23.5)\n",
            "Requirement already satisfied: packaging in /usr/local/lib/python3.10/dist-packages (from nilearn) (23.2)\n",
            "Requirement already satisfied: pandas>=1.1.5 in /usr/local/lib/python3.10/dist-packages (from nilearn) (1.5.3)\n",
            "Requirement already satisfied: requests>=2.25.0 in /usr/local/lib/python3.10/dist-packages (from nilearn) (2.31.0)\n",
            "Requirement already satisfied: scikit-learn>=1.0.0 in /usr/local/lib/python3.10/dist-packages (from nilearn) (1.2.2)\n",
            "Requirement already satisfied: scipy>=1.6.0 in /usr/local/lib/python3.10/dist-packages (from nilearn) (1.11.3)\n",
            "Requirement already satisfied: setuptools in /usr/local/lib/python3.10/dist-packages (from nibabel>=3.2.0->nilearn) (67.7.2)\n",
            "Requirement already satisfied: python-dateutil>=2.8.1 in /usr/local/lib/python3.10/dist-packages (from pandas>=1.1.5->nilearn) (2.8.2)\n",
            "Requirement already satisfied: pytz>=2020.1 in /usr/local/lib/python3.10/dist-packages (from pandas>=1.1.5->nilearn) (2023.3.post1)\n",
            "Requirement already satisfied: charset-normalizer<4,>=2 in /usr/local/lib/python3.10/dist-packages (from requests>=2.25.0->nilearn) (3.3.0)\n",
            "Requirement already satisfied: idna<4,>=2.5 in /usr/local/lib/python3.10/dist-packages (from requests>=2.25.0->nilearn) (3.4)\n",
            "Requirement already satisfied: urllib3<3,>=1.21.1 in /usr/local/lib/python3.10/dist-packages (from requests>=2.25.0->nilearn) (2.0.7)\n",
            "Requirement already satisfied: certifi>=2017.4.17 in /usr/local/lib/python3.10/dist-packages (from requests>=2.25.0->nilearn) (2023.7.22)\n",
            "Requirement already satisfied: threadpoolctl>=2.0.0 in /usr/local/lib/python3.10/dist-packages (from scikit-learn>=1.0.0->nilearn) (3.2.0)\n",
            "Requirement already satisfied: six>=1.5 in /usr/local/lib/python3.10/dist-packages (from python-dateutil>=2.8.1->pandas>=1.1.5->nilearn) (1.16.0)\n",
            "Installing collected packages: nilearn\n",
            "Successfully installed nilearn-0.10.2\n"
          ]
        }
      ],
      "source": [
        "!pip install nilearn"
      ]
    },
    {
      "cell_type": "code",
      "execution_count": 4,
      "metadata": {
        "id": "78g5bd6aFF2R"
      },
      "outputs": [],
      "source": [
        "!cd /content/drive/MyDrive/6389_Assignment1/Assignment1"
      ]
    },
    {
      "cell_type": "code",
      "execution_count": 5,
      "metadata": {
        "id": "mHW9C_epCiw3"
      },
      "outputs": [],
      "source": [
        "import nibabel as nib\n",
        "import os\n",
        "import itertools\n",
        "import numpy as np\n",
        "from nilearn import plotting\n",
        "import tensorflow as tf\n",
        "from tensorflow import keras\n",
        "from tensorflow.keras import layers"
      ]
    },
    {
      "cell_type": "code",
      "execution_count": 6,
      "metadata": {
        "colab": {
          "base_uri": "https://localhost:8080/",
          "height": 1000
        },
        "id": "zOjRA7ZiCiw5",
        "outputId": "20bdd508-89e2-4b0b-8089-dda9ab6ea346"
      },
      "outputs": [
        {
          "output_type": "execute_result",
          "data": {
            "text/plain": [
              "array([[[0., 0., 0., ..., 0., 0., 0.],\n",
              "        [0., 0., 0., ..., 0., 0., 0.],\n",
              "        [0., 0., 0., ..., 0., 0., 0.],\n",
              "        ...,\n",
              "        [0., 0., 0., ..., 0., 0., 0.],\n",
              "        [0., 0., 0., ..., 0., 0., 0.],\n",
              "        [0., 0., 0., ..., 0., 0., 0.]],\n",
              "\n",
              "       [[0., 0., 0., ..., 0., 0., 0.],\n",
              "        [0., 0., 0., ..., 0., 0., 0.],\n",
              "        [0., 0., 0., ..., 0., 0., 0.],\n",
              "        ...,\n",
              "        [0., 0., 0., ..., 0., 0., 0.],\n",
              "        [0., 0., 0., ..., 0., 0., 0.],\n",
              "        [0., 0., 0., ..., 0., 0., 0.]],\n",
              "\n",
              "       [[0., 0., 0., ..., 0., 0., 0.],\n",
              "        [0., 0., 0., ..., 0., 0., 0.],\n",
              "        [0., 0., 0., ..., 0., 0., 0.],\n",
              "        ...,\n",
              "        [0., 0., 0., ..., 0., 0., 0.],\n",
              "        [0., 0., 0., ..., 0., 0., 0.],\n",
              "        [0., 0., 0., ..., 0., 0., 0.]],\n",
              "\n",
              "       ...,\n",
              "\n",
              "       [[0., 0., 0., ..., 0., 0., 0.],\n",
              "        [0., 0., 0., ..., 0., 0., 0.],\n",
              "        [0., 0., 0., ..., 0., 0., 0.],\n",
              "        ...,\n",
              "        [0., 0., 0., ..., 0., 0., 0.],\n",
              "        [0., 0., 0., ..., 0., 0., 0.],\n",
              "        [0., 0., 0., ..., 0., 0., 0.]],\n",
              "\n",
              "       [[0., 0., 0., ..., 0., 0., 0.],\n",
              "        [0., 0., 0., ..., 0., 0., 0.],\n",
              "        [0., 0., 0., ..., 0., 0., 0.],\n",
              "        ...,\n",
              "        [0., 0., 0., ..., 0., 0., 0.],\n",
              "        [0., 0., 0., ..., 0., 0., 0.],\n",
              "        [0., 0., 0., ..., 0., 0., 0.]],\n",
              "\n",
              "       [[0., 0., 0., ..., 0., 0., 0.],\n",
              "        [0., 0., 0., ..., 0., 0., 0.],\n",
              "        [0., 0., 0., ..., 0., 0., 0.],\n",
              "        ...,\n",
              "        [0., 0., 0., ..., 0., 0., 0.],\n",
              "        [0., 0., 0., ..., 0., 0., 0.],\n",
              "        [0., 0., 0., ..., 0., 0., 0.]]])"
            ]
          },
          "metadata": {},
          "execution_count": 6
        },
        {
          "output_type": "display_data",
          "data": {
            "text/plain": [
              "<Figure size 660x350 with 4 Axes>"
            ],
            "image/png": "[encoded data removed]"
          },
          "metadata": {}
        }
      ],
      "source": [
        "def read_nifti_file1(nifti_file):\n",
        "    image = nib.load(nifti_file)\n",
        "    nii_data = image.get_fdata()\n",
        "    plotting.plot_anat(image)\n",
        "    return nii_data\n",
        "\n",
        "read_nifti_file1(r\"/content/drive/MyDrive/6389_Assignment1/Assignment1/Training/health/T1_bet_2_0413_sub01.nii.gz\")"
      ]
    },
    {
      "cell_type": "code",
      "source": [
        "import nibabel as nib\n",
        "import tensorflow as tf\n",
        "\n",
        "# Replace 'your_image.nii' with the path to your NIfTI file\n",
        "nii_image = nib.load('/content/drive/MyDrive/6389_Assignment1/Assignment1/Training/health/T1_bet_2_0413_sub01.nii.gz')\n",
        "\n",
        "image_data = nii_image.get_fdata()\n",
        "image_tensor = tf.convert_to_tensor(image_data)\n",
        "image_shape = tf.shape(image_tensor)\n",
        "print(\"Image Dimensions:\", image_shape)"
      ],
      "metadata": {
        "colab": {
          "base_uri": "https://localhost:8080/"
        },
        "id": "3mg7UYkZqjRu",
        "outputId": "a20fcf7a-fd72-4199-93f6-e15d5f843b1d"
      },
      "execution_count": 7,
      "outputs": [
        {
          "output_type": "stream",
          "name": "stdout",
          "text": [
            "Image Dimensions: tf.Tensor([141 199 190], shape=(3,), dtype=int32)\n"
          ]
        }
      ]
    },
    {
      "cell_type": "code",
      "execution_count": 8,
      "metadata": {
        "id": "AGBWhlZQCiw9"
      },
      "outputs": [],
      "source": [
        "def read_nifti_file(nifti_file):\n",
        "    nii_image = nib.load(nifti_file)\n",
        "    nii_data = nii_image.get_fdata()\n",
        "#     plotting.plot_anat(nii_image)\n",
        "    return nii_data\n",
        "\n",
        "def resize_data(data):\n",
        "    initial_size_x = data.shape[0]\n",
        "    initial_size_y = data.shape[1]\n",
        "    initial_size_z = data.shape[2]\n",
        "\n",
        "    new_size_x = 128\n",
        "    new_size_y = 128\n",
        "    new_size_z = 64\n",
        "#     new_size_x = 116\n",
        "#     new_size_y = 130\n",
        "#     new_size_z = 83\n",
        "\n",
        "    delta_x = initial_size_x / new_size_x\n",
        "    delta_y = initial_size_y / new_size_y\n",
        "    delta_z = initial_size_z / new_size_z\n",
        "\n",
        "    new_data = np.zeros((new_size_x, new_size_y, new_size_z))\n",
        "\n",
        "    for x, y, z in itertools.product(range(new_size_x),\n",
        "                                     range(new_size_y),\n",
        "                                     range(new_size_z)):\n",
        "        new_data[x][y][z] = data[int(x * delta_x)][int(y * delta_y)][int(z * delta_z)]\n",
        "\n",
        "    return new_data\n",
        "\n",
        "def get_data(dtype = \"Training\" ,resize = True):\n",
        "\n",
        "    healthy_subjects = []\n",
        "    ad_patients = []\n",
        "\n",
        "    if dtype == \"Training\":\n",
        "        for i in range(1,10):\n",
        "            healthy = read_nifti_file(\"/content/drive/MyDrive/6389_Assignment1/Assignment1/\"+dtype+\"/health/T1_bet_2_0413_sub01.nii.gz\")\n",
        "            patient = read_nifti_file(\"/content/drive/MyDrive/6389_Assignment1/Assignment1/\"+dtype+\"/patient/T1_bet_2_0413_sub01.nii.gz\")\n",
        "            if resize == True:\n",
        "                healthy = resize_data(healthy)\n",
        "                patient = resize_data(patient)\n",
        "\n",
        "            healthy_subjects.append(healthy)\n",
        "            ad_patients.append(patient)\n",
        "\n",
        "    elif dtype == \"Testing\":\n",
        "        for i in range(1,6):\n",
        "            healthy = read_nifti_file(\"/content/drive/MyDrive/6389_Assignment1/Assignment1/\"+dtype+\"/health/T1_bet_2_0413_sub11.nii.gz\")\n",
        "            patient = read_nifti_file(\"/content/drive/MyDrive/6389_Assignment1/Assignment1/\"+dtype+\"/patient/T1_bet_2_0413_sub11.nii.gz\")\n",
        "            if resize == True:\n",
        "                healthy = resize_data(healthy)\n",
        "                patient = resize_data(patient)\n",
        "\n",
        "            healthy_subjects.append(healthy)\n",
        "            ad_patients.append(patient)\n",
        "\n",
        "    return healthy_subjects,ad_patients"
      ]
    },
    {
      "cell_type": "code",
      "execution_count": 9,
      "metadata": {
        "id": "KSiwvhwFCiw_"
      },
      "outputs": [],
      "source": [
        "def flip_image(image):\n",
        "    flipped_image = tf.image.flip_left_right(image)\n",
        "    return flipped_image\n",
        "\n",
        "def augmentation(list_of_data, count = 4):\n",
        "\n",
        "    augmentated_data = list_of_data[:]\n",
        "    indexes = np.arange(len(list_of_data))\n",
        "    select_images = np.random.choice(indexes, count+1, replace = False)\n",
        "\n",
        "    # Flipping random count number of images and appending it to the dataset\n",
        "    for i in select_images:\n",
        "        augmentated_data.append(flip_image(list_of_data[i]))\n",
        "    return augmentated_data\n",
        "\n",
        "def data_preprocessing(volume, label):\n",
        "    volume = tf.expand_dims(volume, axis=-1)\n",
        "    return volume, label"
      ]
    },
    {
      "cell_type": "code",
      "execution_count": 10,
      "metadata": {
        "id": "NwDseE2RH_wQ"
      },
      "outputs": [],
      "source": [
        "#model_1\n",
        "# def get_model(width=128, height=128, depth=64):\n",
        "#     \"\"\"Building a 3D convolutional neural network model.\"\"\"\n",
        "# #     141, 199, 190\n",
        "#     inputs = keras.Input((width, height, depth, 1))\n",
        "\n",
        "#     x = layers.Conv3D(filters=64, kernel_size=3, activation=\"relu\")(inputs)\n",
        "#     x = layers.MaxPool3D(pool_size=2)(x)\n",
        "#     x = layers.BatchNormalization()(x)\n",
        "\n",
        "#     x = layers.Conv3D(filters=64, kernel_size=3, activation=\"relu\")(x)\n",
        "#     x = layers.MaxPool3D(pool_size=2)(x)\n",
        "#     x = layers.BatchNormalization()(x)\n",
        "\n",
        "#     x = layers.Conv3D(filters=128, kernel_size=3, activation=\"relu\")(x)\n",
        "#     x = layers.MaxPool3D(pool_size=2)(x)\n",
        "#     x = layers.BatchNormalization()(x)\n",
        "\n",
        "#     x = layers.Conv3D(filters=256, kernel_size=3, activation=\"relu\")(x)\n",
        "#     x = layers.MaxPool3D(pool_size=2)(x)\n",
        "#     x = layers.BatchNormalization()(x)\n",
        "\n",
        "#     x = layers.GlobalAveragePooling3D()(x)\n",
        "#     x = layers.Dense(units=512, activation=\"relu\")(x)\n",
        "#     x = layers.Dropout(0.3)(x)\n",
        "\n",
        "#     outputs = layers.Dense(units=1, activation=\"sigmoid\")(x)\n",
        "\n",
        "#     # Defining the model.\n",
        "#     model = keras.Model(inputs, outputs, name=\"3dcnn\")\n",
        "#     return model\n",
        "\n",
        "#model_2\n",
        "\n",
        "# def get_model(width=128, height=128, depth=64):\n",
        "#     inputs = keras.Input((width, height, depth, 1))\n",
        "\n",
        "#     x = layers.Conv3D(filters=32, kernel_size=3, activation=\"relu\")(inputs)\n",
        "#     x = layers.MaxPool3D(pool_size=2)(x)\n",
        "#     x = layers.BatchNormalization()(x)\n",
        "\n",
        "#     x = layers.Conv3D(filters=64, kernel_size=3, activation=\"relu\")(x)\n",
        "#     x = layers.MaxPool3D(pool_size=2)(x)\n",
        "#     x = layers.BatchNormalization()(x)\n",
        "\n",
        "#     x = layers.Conv3D(filters=128, kernel_size=3, activation=\"relu\")(x)\n",
        "#     x = layers.MaxPool3D(pool_size=2)(x)\n",
        "#     x = layers.BatchNormalization()(x)\n",
        "\n",
        "#     x = layers.GlobalAveragePooling3D()(x)\n",
        "#     x = layers.Dense(units=128, activation=\"relu\")(x)\n",
        "#     x = layers.Dropout(0.3)(x)\n",
        "\n",
        "#     outputs = layers.Dense(units=1, activation=\"sigmoid\")(x)\n",
        "\n",
        "#     model = keras.Model(inputs, outputs, name=\"3dcnn\")\n",
        "#     return model\n",
        "\n",
        "\n",
        "\n"
      ]
    },
    {
      "cell_type": "code",
      "execution_count": 11,
      "metadata": {
        "id": "FNiTBnzxCixB"
      },
      "outputs": [],
      "source": [
        "def get_model(width=128, height=128, depth=64):\n",
        "    \"\"\"Building a 3D convolutional neural network model.\"\"\"\n",
        "#     141, 199, 190\n",
        "    inputs = keras.Input((width, height, depth, 1))\n",
        "\n",
        "    x = layers.Conv3D(filters=64, kernel_size=3, activation=\"relu\")(inputs)\n",
        "    x = layers.MaxPool3D(pool_size=2)(x)\n",
        "    x = layers.BatchNormalization()(x)\n",
        "\n",
        "    x = layers.Conv3D(filters=64, kernel_size=3, activation=\"relu\")(x)\n",
        "    x = layers.MaxPool3D(pool_size=2)(x)\n",
        "    x = layers.BatchNormalization()(x)\n",
        "\n",
        "    x = layers.Conv3D(filters=128, kernel_size=3, activation=\"relu\")(x)\n",
        "    x = layers.MaxPool3D(pool_size=2)(x)\n",
        "    x = layers.BatchNormalization()(x)\n",
        "\n",
        "    x = layers.Conv3D(filters=256, kernel_size=3, activation=\"relu\")(x)\n",
        "    x = layers.MaxPool3D(pool_size=2)(x)\n",
        "    x = layers.BatchNormalization()(x)\n",
        "\n",
        "    x = layers.GlobalAveragePooling3D()(x)\n",
        "    x = layers.Dense(units=512, activation=\"relu\")(x)\n",
        "    x = layers.Dropout(0.3)(x)\n",
        "\n",
        "    outputs = layers.Dense(units=1, activation=\"sigmoid\")(x)\n",
        "\n",
        "    # Defining the model.\n",
        "    model = keras.Model(inputs, outputs, name=\"3dcnn\")\n",
        "    return model\n",
        "\n",
        "\n"
      ]
    },
    {
      "cell_type": "code",
      "execution_count": 12,
      "metadata": {
        "id": "lKbS9FQ6CixD"
      },
      "outputs": [],
      "source": [
        "# Get data and apply augmentation\n",
        "healthy_subjects, patients = get_data(resize = True)\n"
      ]
    },
    {
      "cell_type": "markdown",
      "metadata": {
        "id": "H0IlODtkCixF"
      },
      "source": [
        "### Method 1: Using the resized images on model"
      ]
    },
    {
      "cell_type": "code",
      "execution_count": 13,
      "metadata": {
        "colab": {
          "base_uri": "https://localhost:8080/"
        },
        "id": "cSB-3FUzCixG",
        "outputId": "34ed9af6-858e-4c4c-b0ad-53c730ab4449"
      },
      "outputs": [
        {
          "output_type": "stream",
          "name": "stdout",
          "text": [
            "MRI healthy subjects: 9\n",
            "MRI un-healthy subjects: 9\n"
          ]
        }
      ],
      "source": [
        "# augemented_healthy_subjects = augmentation(healthy_subjects, count = 6)\n",
        "# augemented_patients = augmentation(patients, count = 6)\n",
        "\n",
        "print(\"MRI healthy subjects: \" + str(len(healthy_subjects)))\n",
        "print(\"MRI un-healthy subjects: \" + str(len(patients)))"
      ]
    },
    {
      "cell_type": "code",
      "execution_count": 14,
      "metadata": {
        "colab": {
          "base_uri": "https://localhost:8080/"
        },
        "id": "gqeUwdrlCixH",
        "outputId": "af7e9101-6beb-46a6-98f3-c167903bedde"
      },
      "outputs": [
        {
          "output_type": "stream",
          "name": "stdout",
          "text": [
            "Number of samples in train are 18.\n"
          ]
        }
      ],
      "source": [
        "# Assigning class labels\n",
        "abnormal_labels = np.array([1 for _ in range(len(patients))])\n",
        "normal_labels = np.array([0 for _ in range(len(healthy_subjects))])\n",
        "\n",
        "x_train = []\n",
        "y_train = []\n",
        "\n",
        "x_train.extend(healthy_subjects)\n",
        "x_train.extend(patients)\n",
        "y_train.extend(normal_labels)\n",
        "y_train.extend(abnormal_labels)\n",
        "\n",
        "print(\"Number of samples in train are %d.\"% (len(x_train)))"
      ]
    },
    {
      "cell_type": "code",
      "execution_count": 15,
      "metadata": {
        "id": "8lvw-gVbCixI"
      },
      "outputs": [],
      "source": [
        "train_loader = tf.data.Dataset.from_tensor_slices((x_train, y_train))\n",
        "# test_loader = tf.data.Dataset.from_tensor_slices((x_test, y_test))\n",
        "\n",
        "batch_size = 2\n",
        "train_dataset = (\n",
        "    train_loader.shuffle(len(x_train))\n",
        "    .map(data_preprocessing)\n",
        "    .batch(batch_size)\n",
        "    .prefetch(2)\n",
        ")\n",
        "\n",
        "# test_dataset = (\n",
        "#     test_loader.shuffle(len(x_test))\n",
        "#     .map(data_preprocessing)\n",
        "#     .batch(batch_size)\n",
        "#     .prefetch(100)\n",
        "# )"
      ]
    },
    {
      "cell_type": "code",
      "execution_count": 16,
      "metadata": {
        "colab": {
          "base_uri": "https://localhost:8080/"
        },
        "id": "YHamVnxiCixJ",
        "outputId": "9514933c-63c8-4508-fa71-92cc64bde1f0"
      },
      "outputs": [
        {
          "output_type": "stream",
          "name": "stdout",
          "text": [
            "Model: \"3dcnn\"\n",
            "_________________________________________________________________\n",
            " Layer (type)                Output Shape              Param #   \n",
            "=================================================================\n",
            " input_1 (InputLayer)        [(None, 128, 128, 64, 1   0         \n",
            "                             )]                                  \n",
            "                                                                 \n",
            " conv3d (Conv3D)             (None, 126, 126, 62, 64   1792      \n",
            "                             )                                   \n",
            "                                                                 \n",
            " max_pooling3d (MaxPooling3  (None, 63, 63, 31, 64)    0         \n",
            " D)                                                              \n",
            "                                                                 \n",
            " batch_normalization (Batch  (None, 63, 63, 31, 64)    256       \n",
            " Normalization)                                                  \n",
            "                                                                 \n",
            " conv3d_1 (Conv3D)           (None, 61, 61, 29, 64)    110656    \n",
            "                                                                 \n",
            " max_pooling3d_1 (MaxPoolin  (None, 30, 30, 14, 64)    0         \n",
            " g3D)                                                            \n",
            "                                                                 \n",
            " batch_normalization_1 (Bat  (None, 30, 30, 14, 64)    256       \n",
            " chNormalization)                                                \n",
            "                                                                 \n",
            " conv3d_2 (Conv3D)           (None, 28, 28, 12, 128)   221312    \n",
            "                                                                 \n",
            " max_pooling3d_2 (MaxPoolin  (None, 14, 14, 6, 128)    0         \n",
            " g3D)                                                            \n",
            "                                                                 \n",
            " batch_normalization_2 (Bat  (None, 14, 14, 6, 128)    512       \n",
            " chNormalization)                                                \n",
            "                                                                 \n",
            " conv3d_3 (Conv3D)           (None, 12, 12, 4, 256)    884992    \n",
            "                                                                 \n",
            " max_pooling3d_3 (MaxPoolin  (None, 6, 6, 2, 256)      0         \n",
            " g3D)                                                            \n",
            "                                                                 \n",
            " batch_normalization_3 (Bat  (None, 6, 6, 2, 256)      1024      \n",
            " chNormalization)                                                \n",
            "                                                                 \n",
            " global_average_pooling3d (  (None, 256)               0         \n",
            " GlobalAveragePooling3D)                                         \n",
            "                                                                 \n",
            " dense (Dense)               (None, 512)               131584    \n",
            "                                                                 \n",
            " dropout (Dropout)           (None, 512)               0         \n",
            "                                                                 \n",
            " dense_1 (Dense)             (None, 1)                 513       \n",
            "                                                                 \n",
            "=================================================================\n",
            "Total params: 1352897 (5.16 MB)\n",
            "Trainable params: 1351873 (5.16 MB)\n",
            "Non-trainable params: 1024 (4.00 KB)\n",
            "_________________________________________________________________\n"
          ]
        }
      ],
      "source": [
        "model = get_model()\n",
        "model.summary()"
      ]
    },
    {
      "cell_type": "code",
      "execution_count": 17,
      "metadata": {
        "id": "GQgxthhSCixK"
      },
      "outputs": [],
      "source": [
        "initial_learning_rate = 0.001\n",
        "lr_schedule = keras.optimizers.schedules.ExponentialDecay(\n",
        "    initial_learning_rate, decay_steps=100000, decay_rate=0.96, staircase=True\n",
        ")\n",
        "model.compile(\n",
        "    loss=\"binary_crossentropy\",\n",
        "    optimizer=keras.optimizers.Adam(learning_rate=lr_schedule),\n",
        "    metrics=[\"acc\"],\n",
        ")\n"
      ]
    },
    {
      "cell_type": "code",
      "execution_count": 18,
      "metadata": {
        "colab": {
          "base_uri": "https://localhost:8080/"
        },
        "id": "ggSI_UhLCixL",
        "scrolled": true,
        "outputId": "ca2e5395-381d-4870-e316-f0539a5f7750"
      },
      "outputs": [
        {
          "output_type": "stream",
          "name": "stdout",
          "text": [
            "Epoch 1/10\n",
            "9/9 [==============================] - 159s 17s/step - loss: 0.4317 - acc: 0.5000\n",
            "Epoch 2/10\n",
            "9/9 [==============================] - 152s 17s/step - loss: 0.4633 - acc: 0.6667\n",
            "Epoch 3/10\n",
            "9/9 [==============================] - 152s 17s/step - loss: 0.3110 - acc: 0.5556\n",
            "Epoch 4/10\n",
            "9/9 [==============================] - 151s 17s/step - loss: 0.3102 - acc: 0.7222\n",
            "Epoch 5/10\n",
            "9/9 [==============================] - 158s 17s/step - loss: 0.1550 - acc: 0.8889\n",
            "Epoch 6/10\n",
            "9/9 [==============================] - 153s 17s/step - loss: 0.4623 - acc: 0.6111\n",
            "Epoch 7/10\n",
            "9/9 [==============================] - 152s 17s/step - loss: 0.1544 - acc: 0.8889\n",
            "Epoch 8/10\n",
            "9/9 [==============================] - 154s 17s/step - loss: 0.3089 - acc: 0.7222\n",
            "Epoch 9/10\n",
            "9/9 [==============================] - 152s 17s/step - loss: 0.1552 - acc: 0.8333\n",
            "Epoch 10/10\n",
            "9/9 [==============================] - 150s 17s/step - loss: 0.1541 - acc: 0.8889\n"
          ]
        }
      ],
      "source": [
        "epochs = 50\n",
        "\n",
        "checkpoint_cb = keras.callbacks.ModelCheckpoint(\n",
        "    \"3d_image_classification.h5\", save_best_only=True\n",
        ")\n",
        "early_stopping_cb = keras.callbacks.EarlyStopping(monitor=\"val_acc\", patience=15)\n",
        "\n",
        "history = model.fit(\n",
        "    train_dataset,\n",
        "#     validation_data=test_dataset,\n",
        "    epochs=epochs,\n",
        "    shuffle=True,\n",
        ")"
      ]
    },
    {
      "cell_type": "code",
      "execution_count": 19,
      "metadata": {
        "id": "-t5JNR3HCixM",
        "colab": {
          "base_uri": "https://localhost:8080/"
        },
        "outputId": "c23a4283-53c5-4218-e558-148d8b221d60"
      },
      "outputs": [
        {
          "output_type": "stream",
          "name": "stdout",
          "text": [
            "Device mapping: no known devices.\n"
          ]
        }
      ],
      "source": [
        "sess = tf.compat.v1.Session(config=tf.compat.v1.ConfigProto(log_device_placement=True))"
      ]
    },
    {
      "cell_type": "code",
      "execution_count": 20,
      "metadata": {
        "id": "V8K8kFHtCixM",
        "colab": {
          "base_uri": "https://localhost:8080/"
        },
        "outputId": "7a8a990b-bfaf-4098-d78a-a8263b0a0ef3"
      },
      "outputs": [
        {
          "output_type": "execute_result",
          "data": {
            "text/plain": [
              "0.7277777791023254"
            ]
          },
          "metadata": {},
          "execution_count": 20
        }
      ],
      "source": [
        "sum(history.history['acc'])/len(history.history['acc']) # Avergae accuracy"
      ]
    },
    {
      "cell_type": "code",
      "execution_count": 21,
      "metadata": {
        "id": "RNIFOlTOCixN"
      },
      "outputs": [],
      "source": [
        "# Creating Validation Data set\n",
        "test_h, test_p = get_data(\"Testing\", resize = True)\n",
        "test_abnormal_labels = np.array([1 for _ in range(len(test_p))])\n",
        "test_normal_labels = np.array([1 for _ in range(len(test_h))])"
      ]
    },
    {
      "cell_type": "code",
      "execution_count": 22,
      "metadata": {
        "id": "R4Zx6eJeCixN"
      },
      "outputs": [],
      "source": [
        "x_test = []\n",
        "y_test = []\n",
        "\n",
        "x_test.extend(test_h)\n",
        "x_test.extend(test_p)\n",
        "y_test.extend(test_normal_labels)\n",
        "y_test.extend(test_abnormal_labels)"
      ]
    },
    {
      "cell_type": "code",
      "execution_count": 23,
      "metadata": {
        "id": "a-BBuhQ0CixO"
      },
      "outputs": [],
      "source": [
        "test_loader = tf.data.Dataset.from_tensor_slices((x_test, y_test))\n",
        "\n",
        "test_dataset = (\n",
        "    test_loader.shuffle(len(x_test))\n",
        "    .map(data_preprocessing)\n",
        "    .batch(batch_size)\n",
        "    .prefetch(2)\n",
        ")"
      ]
    },
    {
      "cell_type": "code",
      "execution_count": 24,
      "metadata": {
        "id": "Mzt_y3g7CixP",
        "colab": {
          "base_uri": "https://localhost:8080/"
        },
        "outputId": "846999ba-36d7-496d-9e17-bb85269e2ec9"
      },
      "outputs": [
        {
          "output_type": "stream",
          "name": "stdout",
          "text": [
            "5/5 - 17s - loss: 5.7811 - acc: 0.5000 - 17s/epoch - 3s/step\n"
          ]
        }
      ],
      "source": [
        "test_loss, test_acc = model.evaluate(test_dataset, verbose=2)"
      ]
    },
    {
      "cell_type": "code",
      "execution_count": 25,
      "metadata": {
        "id": "AkL8QZZLCixP",
        "colab": {
          "base_uri": "https://localhost:8080/"
        },
        "outputId": "c918dc4f-9e07-45d0-952f-8019eb4e2eee"
      },
      "outputs": [
        {
          "output_type": "execute_result",
          "data": {
            "text/plain": [
              "0.5"
            ]
          },
          "metadata": {},
          "execution_count": 25
        }
      ],
      "source": [
        "test_acc"
      ]
    },
    {
      "cell_type": "markdown",
      "metadata": {
        "id": "xePo98_zCixQ"
      },
      "source": [
        "### Method 2: Data Augmentation & Resizing"
      ]
    },
    {
      "cell_type": "code",
      "execution_count": 26,
      "metadata": {
        "id": "gjJbA8sVCixR",
        "colab": {
          "base_uri": "https://localhost:8080/"
        },
        "outputId": "4fe311a9-a010-4b4b-e717-b655c2ab628d"
      },
      "outputs": [
        {
          "output_type": "stream",
          "name": "stdout",
          "text": [
            "MRI healthy subjects: 16\n",
            "MRI un-healthy subjects: 16\n"
          ]
        }
      ],
      "source": [
        "# We already have the data we just need to call the augmentation function\n",
        "\n",
        "# Adding 6 images from healthy as well as patient dataset\n",
        "augemented_healthy_subjects = augmentation(healthy_subjects, count = 6)\n",
        "augemented_patients = augmentation(patients, count = 6)\n",
        "\n",
        "print(\"MRI healthy subjects: \" + str(len(augemented_healthy_subjects)))\n",
        "print(\"MRI un-healthy subjects: \" + str(len(augemented_patients)))"
      ]
    },
    {
      "cell_type": "code",
      "execution_count": 27,
      "metadata": {
        "id": "RZmlKKK9CixT",
        "colab": {
          "base_uri": "https://localhost:8080/"
        },
        "outputId": "8aa22e64-807a-47a4-f8fc-d58c7863e338"
      },
      "outputs": [
        {
          "output_type": "stream",
          "name": "stdout",
          "text": [
            "Number of samples in train are 32.\n"
          ]
        }
      ],
      "source": [
        "abnormal_labels2 = np.array([1 for _ in range(len(augemented_patients))])\n",
        "normal_labels2 = np.array([0 for _ in range(len(augemented_healthy_subjects))])\n",
        "\n",
        "x_train2 = []\n",
        "y_train2 = []\n",
        "\n",
        "x_train2.extend(augemented_healthy_subjects)\n",
        "x_train2.extend(augemented_patients)\n",
        "y_train2.extend(normal_labels2)\n",
        "y_train2.extend(abnormal_labels2)\n",
        "\n",
        "print(\"Number of samples in train are %d.\"% (len(x_train2)))"
      ]
    },
    {
      "cell_type": "code",
      "execution_count": 28,
      "metadata": {
        "id": "iNVTLi3WCixU"
      },
      "outputs": [],
      "source": [
        "train_loader2 = tf.data.Dataset.from_tensor_slices((x_train2, y_train2))\n",
        "batch_size = 2\n",
        "train_dataset2 = (\n",
        "    train_loader.shuffle(len(x_train))\n",
        "    .map(data_preprocessing)\n",
        "    .batch(batch_size)\n",
        "    .prefetch(2)\n",
        ")\n"
      ]
    },
    {
      "cell_type": "code",
      "execution_count": 29,
      "metadata": {
        "id": "LmkF3e5kCixV",
        "colab": {
          "base_uri": "https://localhost:8080/"
        },
        "outputId": "99c29cd7-9fad-47d5-8397-94091b65104e"
      },
      "outputs": [
        {
          "output_type": "stream",
          "name": "stdout",
          "text": [
            "Model: \"3dcnn\"\n",
            "_________________________________________________________________\n",
            " Layer (type)                Output Shape              Param #   \n",
            "=================================================================\n",
            " input_2 (InputLayer)        [(None, 128, 128, 64, 1   0         \n",
            "                             )]                                  \n",
            "                                                                 \n",
            " conv3d_4 (Conv3D)           (None, 126, 126, 62, 64   1792      \n",
            "                             )                                   \n",
            "                                                                 \n",
            " max_pooling3d_4 (MaxPoolin  (None, 63, 63, 31, 64)    0         \n",
            " g3D)                                                            \n",
            "                                                                 \n",
            " batch_normalization_4 (Bat  (None, 63, 63, 31, 64)    256       \n",
            " chNormalization)                                                \n",
            "                                                                 \n",
            " conv3d_5 (Conv3D)           (None, 61, 61, 29, 64)    110656    \n",
            "                                                                 \n",
            " max_pooling3d_5 (MaxPoolin  (None, 30, 30, 14, 64)    0         \n",
            " g3D)                                                            \n",
            "                                                                 \n",
            " batch_normalization_5 (Bat  (None, 30, 30, 14, 64)    256       \n",
            " chNormalization)                                                \n",
            "                                                                 \n",
            " conv3d_6 (Conv3D)           (None, 28, 28, 12, 128)   221312    \n",
            "                                                                 \n",
            " max_pooling3d_6 (MaxPoolin  (None, 14, 14, 6, 128)    0         \n",
            " g3D)                                                            \n",
            "                                                                 \n",
            " batch_normalization_6 (Bat  (None, 14, 14, 6, 128)    512       \n",
            " chNormalization)                                                \n",
            "                                                                 \n",
            " conv3d_7 (Conv3D)           (None, 12, 12, 4, 256)    884992    \n",
            "                                                                 \n",
            " max_pooling3d_7 (MaxPoolin  (None, 6, 6, 2, 256)      0         \n",
            " g3D)                                                            \n",
            "                                                                 \n",
            " batch_normalization_7 (Bat  (None, 6, 6, 2, 256)      1024      \n",
            " chNormalization)                                                \n",
            "                                                                 \n",
            " global_average_pooling3d_1  (None, 256)               0         \n",
            "  (GlobalAveragePooling3D)                                       \n",
            "                                                                 \n",
            " dense_2 (Dense)             (None, 512)               131584    \n",
            "                                                                 \n",
            " dropout_1 (Dropout)         (None, 512)               0         \n",
            "                                                                 \n",
            " dense_3 (Dense)             (None, 1)                 513       \n",
            "                                                                 \n",
            "=================================================================\n",
            "Total params: 1352897 (5.16 MB)\n",
            "Trainable params: 1351873 (5.16 MB)\n",
            "Non-trainable params: 1024 (4.00 KB)\n",
            "_________________________________________________________________\n"
          ]
        }
      ],
      "source": [
        "model2 = get_model()\n",
        "model2.summary()"
      ]
    },
    {
      "cell_type": "code",
      "execution_count": 30,
      "metadata": {
        "id": "6wXHoOpiCixW"
      },
      "outputs": [],
      "source": [
        "initial_learning_rate = 0.001\n",
        "lr_schedule = keras.optimizers.schedules.ExponentialDecay(\n",
        "    initial_learning_rate, decay_steps=100000, decay_rate=0.96, staircase=True\n",
        ")\n",
        "model2.compile(\n",
        "    loss=\"binary_crossentropy\",\n",
        "    optimizer=keras.optimizers.Adam(learning_rate=lr_schedule),\n",
        "    metrics=[\"acc\"],\n",
        ")\n"
      ]
    },
    {
      "cell_type": "code",
      "execution_count": 31,
      "metadata": {
        "id": "KRrkDl79CixW",
        "scrolled": true,
        "colab": {
          "base_uri": "https://localhost:8080/"
        },
        "outputId": "879b7a64-84ca-4efd-d74c-4da435253a96"
      },
      "outputs": [
        {
          "output_type": "stream",
          "name": "stdout",
          "text": [
            "Epoch 1/10\n",
            "9/9 [==============================] - 153s 17s/step - loss: 0.2768 - acc: 0.8333\n",
            "Epoch 2/10\n",
            "9/9 [==============================] - 152s 17s/step - loss: 0.1548 - acc: 0.8889\n",
            "Epoch 3/10\n",
            "9/9 [==============================] - 152s 17s/step - loss: 0.3091 - acc: 0.7778\n",
            "Epoch 4/10\n",
            "9/9 [==============================] - 150s 17s/step - loss: 0.3115 - acc: 0.7778\n",
            "Epoch 5/10\n",
            "9/9 [==============================] - 149s 17s/step - loss: 0.4651 - acc: 0.6667\n",
            "Epoch 6/10\n",
            "9/9 [==============================] - 147s 16s/step - loss: 0.3104 - acc: 0.7778\n",
            "Epoch 7/10\n",
            "9/9 [==============================] - 149s 16s/step - loss: 0.4637 - acc: 0.6667\n",
            "Epoch 8/10\n",
            "9/9 [==============================] - 152s 17s/step - loss: 0.3093 - acc: 0.7778\n",
            "Epoch 9/10\n",
            "9/9 [==============================] - 150s 17s/step - loss: 0.1544 - acc: 0.8889\n",
            "Epoch 10/10\n",
            "9/9 [==============================] - 152s 17s/step - loss: 0.1548 - acc: 0.8889\n"
          ]
        }
      ],
      "source": [
        "epochs = 50\n",
        "\n",
        "checkpoint_cb = keras.callbacks.ModelCheckpoint(\n",
        "    \"3d_image_classification.h5\", save_best_only=True\n",
        ")\n",
        "early_stopping_cb = keras.callbacks.EarlyStopping(monitor=\"val_acc\", patience=15)\n",
        "\n",
        "history2 = model2.fit(\n",
        "    train_dataset2,\n",
        "#     validation_data=test_dataset,\n",
        "    epochs=epochs,\n",
        "    shuffle=True,\n",
        ")"
      ]
    },
    {
      "cell_type": "code",
      "execution_count": 32,
      "metadata": {
        "id": "wnUomBKqCixX",
        "colab": {
          "base_uri": "https://localhost:8080/"
        },
        "outputId": "7ae727b4-0c64-4eb1-8d5c-a116e6d57cbd"
      },
      "outputs": [
        {
          "output_type": "stream",
          "name": "stdout",
          "text": [
            "5/5 - 19s - loss: 6.5071 - acc: 0.5000 - 19s/epoch - 4s/step\n"
          ]
        }
      ],
      "source": [
        "test_loss2, test_acc2 = model2.evaluate(test_dataset, verbose=2) # Testing against Validation"
      ]
    },
    {
      "cell_type": "code",
      "execution_count": 33,
      "metadata": {
        "id": "wdHEMVZBCixY",
        "colab": {
          "base_uri": "https://localhost:8080/"
        },
        "outputId": "fefdb32c-46ba-45b4-88c3-4c82ccf0b9fe"
      },
      "outputs": [
        {
          "output_type": "execute_result",
          "data": {
            "text/plain": [
              "0.7277777791023254"
            ]
          },
          "metadata": {},
          "execution_count": 33
        }
      ],
      "source": [
        "sum(history.history['acc'])/len(history.history['acc']) # Average Accuracy"
      ]
    }
  ],
  "metadata": {
    "colab": {
      "provenance": []
    },
    "kernelspec": {
      "display_name": "Python 3",
      "language": "python",
      "name": "python3"
    },
    "language_info": {
      "codemirror_mode": {
        "name": "ipython",
        "version": 3
      },
      "file_extension": ".py",
      "mimetype": "text/x-python",
      "name": "python",
      "nbconvert_exporter": "python",
      "pygments_lexer": "ipython3",
      "version": "3.7.6"
    }
  },
  "nbformat": 4,
  "nbformat_minor": 0
}